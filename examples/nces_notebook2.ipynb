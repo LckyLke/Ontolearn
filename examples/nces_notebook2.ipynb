{
 "cells": [
  {
   "cell_type": "markdown",
   "id": "speaking-pittsburgh",
   "metadata": {},
   "source": [
    "From the main directory \"Ontolearn\", run the commands for NCES data mentioned [here](https://ontolearn-docs-dice-group.netlify.app/usage/02_installation#download-external-files) to download pretrained models and datasets."
   ]
  },
  {
   "cell_type": "code",
   "execution_count": 1,
   "id": "imperial-toyota",
   "metadata": {},
   "outputs": [
    {
     "name": "stderr",
     "output_type": "stream",
     "text": [
      "\n",
      "Warning: SQLite3 version 3.40.0 and 3.41.2 have huge performance regressions; please install version 3.41.1 or 3.42!\n",
      "\n"
     ]
    }
   ],
   "source": [
    "from ontolearn.concept_learner import NCES\n",
    "from ontolearn.knowledge_base import KnowledgeBase\n",
    "from owlapy.parser import DLSyntaxParser\n",
    "from owlapy.render import DLSyntaxObjectRenderer\n",
    "import sys\n",
    "sys.path.append(\"examples/\")\n",
    "from ontolearn.metrics import F1\n",
    "from quality_functions import quality\n",
    "import time\n",
    "import random"
   ]
  },
  {
   "cell_type": "code",
   "execution_count": 2,
   "id": "completed-worker",
   "metadata": {},
   "outputs": [
    {
     "name": "stdout",
     "output_type": "stream",
     "text": [
      "\n",
      "\n",
      " Loaded pretrained model! \n",
      "\n"
     ]
    }
   ],
   "source": [
    "nces = NCES(knowledge_base_path=\"../NCESData/family/family.owl\", quality_func=F1(), num_predictions=5, learner_name=\"SetTransformer\",\n",
    "     path_of_embeddings=\"../NCESData/family/embeddings/ConEx_entity_embeddings.csv\", load_pretrained=True, max_length=48, proj_dim=128, rnn_n_layers=2, drop_prob=0.1, num_heads=4, num_seeds=1, num_inds=32, pretrained_model_name=\"SetTransformer\")"
   ]
  },
  {
   "cell_type": "code",
   "execution_count": 3,
   "id": "reflected-concern",
   "metadata": {},
   "outputs": [],
   "source": [
    "KB = KnowledgeBase(path=nces.knowledge_base_path)"
   ]
  },
  {
   "cell_type": "code",
   "execution_count": 4,
   "id": "modular-portland",
   "metadata": {},
   "outputs": [],
   "source": [
    "dl_syntax_renderer = DLSyntaxObjectRenderer()"
   ]
  },
  {
   "cell_type": "code",
   "execution_count": 5,
   "id": "entitled-introduction",
   "metadata": {},
   "outputs": [],
   "source": [
    "atomic_classes = [dl_syntax_renderer.render(a) for a in KB.ontology.classes_in_signature()]"
   ]
  },
  {
   "cell_type": "code",
   "execution_count": 6,
   "id": "requested-rescue",
   "metadata": {},
   "outputs": [
    {
     "data": {
      "text/plain": [
       "['Brother',\n",
       " 'Male',\n",
       " 'PersonWithASibling',\n",
       " 'Child',\n",
       " 'Person',\n",
       " 'Daughter',\n",
       " 'Female',\n",
       " 'Father',\n",
       " 'Parent',\n",
       " 'Grandchild',\n",
       " 'Granddaughter',\n",
       " 'Grandfather',\n",
       " 'Grandparent',\n",
       " 'Grandmother',\n",
       " 'Grandson',\n",
       " 'Mother',\n",
       " 'Sister',\n",
       " 'Son']"
      ]
     },
     "execution_count": 6,
     "metadata": {},
     "output_type": "execute_result"
    }
   ],
   "source": [
    "atomic_classes"
   ]
  },
  {
   "cell_type": "code",
   "execution_count": 7,
   "id": "logical-brick",
   "metadata": {},
   "outputs": [],
   "source": [
    "dl_parser = DLSyntaxParser(nces.kb_namespace)"
   ]
  },
  {
   "cell_type": "code",
   "execution_count": 8,
   "id": "aware-salon",
   "metadata": {},
   "outputs": [],
   "source": [
    "brother = dl_parser.parse('Brother')\n",
    "daughter = dl_parser.parse('Daughter')"
   ]
  },
  {
   "cell_type": "markdown",
   "id": "included-accused",
   "metadata": {},
   "source": [
    "#### Input examples can be sets or lists"
   ]
  },
  {
   "cell_type": "code",
   "execution_count": 9,
   "id": "arranged-turtle",
   "metadata": {},
   "outputs": [],
   "source": [
    "pos = set(KB.individuals(brother)).union(set(KB.individuals(daughter)))"
   ]
  },
  {
   "cell_type": "code",
   "execution_count": 10,
   "id": "verbal-aurora",
   "metadata": {},
   "outputs": [],
   "source": [
    "neg = set(KB.individuals())-set(pos)"
   ]
  },
  {
   "cell_type": "code",
   "execution_count": 11,
   "id": "closed-examination",
   "metadata": {},
   "outputs": [
    {
     "data": {
      "text/plain": [
       "120"
      ]
     },
     "execution_count": 11,
     "metadata": {},
     "output_type": "execute_result"
    }
   ],
   "source": [
    "len(neg)"
   ]
  },
  {
   "cell_type": "markdown",
   "id": "understanding-facing",
   "metadata": {},
   "source": [
    "#### Prediction with SetTransformer (default model)"
   ]
  },
  {
   "cell_type": "code",
   "execution_count": 12,
   "id": "subject-exercise",
   "metadata": {},
   "outputs": [
    {
     "name": "stdout",
     "output_type": "stream",
     "text": [
      "\n",
      "\n",
      "\n",
      "\n",
      "Duration:  0.2102522850036621  seconds\n"
     ]
    }
   ],
   "source": [
    "t0 = time.time()\n",
    "node = nces.fit(pos, neg).best_hypotheses()\n",
    "t1 = time.time()\n",
    "print(\"\\nDuration: \", t1-t0, \" seconds\")"
   ]
  },
  {
   "cell_type": "code",
   "execution_count": 13,
   "id": "binding-resident",
   "metadata": {},
   "outputs": [
    {
     "data": {
      "text/plain": [
       "104"
      ]
     },
     "execution_count": 13,
     "metadata": {},
     "output_type": "execute_result"
    }
   ],
   "source": [
    "len(set(KB.individuals(node.concept)))"
   ]
  },
  {
   "cell_type": "code",
   "execution_count": 14,
   "id": "unique-analyst",
   "metadata": {},
   "outputs": [
    {
     "data": {
      "text/plain": [
       "<class 'ontolearn.search.NCESNode'> at 0xe84eb5c\tSon ⊔ Daughter ⊔ PersonWithASibling\tQuality:0.88172\tLength:5\t|Indv.|:104"
      ]
     },
     "execution_count": 14,
     "metadata": {},
     "output_type": "execute_result"
    }
   ],
   "source": [
    "node"
   ]
  },
  {
   "cell_type": "code",
   "execution_count": 15,
   "id": "efficient-helen",
   "metadata": {},
   "outputs": [
    {
     "name": "stdout",
     "output_type": "stream",
     "text": [
      "Accuracy: 89.10900000000001%\n",
      "Precision: 78.846%\n",
      "Recall: 100.0%\n",
      "F1: 88.172%\n"
     ]
    },
    {
     "data": {
      "text/plain": [
       "(89.10900000000001, 78.846, 100.0, 88.172)"
      ]
     },
     "execution_count": 15,
     "metadata": {},
     "output_type": "execute_result"
    }
   ],
   "source": [
    "quality(KB, node.concept, pos, neg)"
   ]
  },
  {
   "cell_type": "markdown",
   "id": "brutal-valley",
   "metadata": {},
   "source": [
    "### Ensemble prediction"
   ]
  },
  {
   "cell_type": "code",
   "execution_count": 16,
   "id": "clean-wireless",
   "metadata": {},
   "outputs": [
    {
     "name": "stdout",
     "output_type": "stream",
     "text": [
      "\n",
      "\n",
      " Loaded pretrained model! \n",
      "\n",
      "\n",
      "\n",
      " Loaded pretrained model! \n",
      "\n",
      "\n",
      "\n",
      " Loaded pretrained model! \n",
      "\n",
      "\n",
      "\n",
      "\n",
      "\n",
      "Duration:  0.505124568939209  seconds\n"
     ]
    }
   ],
   "source": [
    "nces.pretrained_model_name = ['SetTransformer','GRU','LSTM']\n",
    "nces.refresh()\n",
    "t0 = time.time()\n",
    "node = nces.fit(pos, neg).best_hypotheses()\n",
    "t1 = time.time()\n",
    "print(\"\\nDuration: \", t1-t0, \" seconds\")"
   ]
  },
  {
   "cell_type": "code",
   "execution_count": 17,
   "id": "completed-opinion",
   "metadata": {},
   "outputs": [
    {
     "name": "stdout",
     "output_type": "stream",
     "text": [
      "Accuracy: 98.02%\n",
      "Precision: 100.0%\n",
      "Recall: 95.122%\n",
      "F1: 97.5%\n"
     ]
    },
    {
     "data": {
      "text/plain": [
       "(98.02, 100.0, 95.122, 97.5)"
      ]
     },
     "execution_count": 17,
     "metadata": {},
     "output_type": "execute_result"
    }
   ],
   "source": [
    "quality(KB, node.concept, pos, neg)"
   ]
  },
  {
   "cell_type": "code",
   "execution_count": 18,
   "id": "natural-arbor",
   "metadata": {},
   "outputs": [
    {
     "data": {
      "text/plain": [
       "<class 'ontolearn.search.NCESNode'> at 0x19112d8\tBrother ⊔ (Daughter ⊓ (Sister ⊔ (¬Mother)))\tQuality:0.975\tLength:8\t|Indv.|:78"
      ]
     },
     "execution_count": 18,
     "metadata": {},
     "output_type": "execute_result"
    }
   ],
   "source": [
    "node"
   ]
  },
  {
   "cell_type": "code",
   "execution_count": 19,
   "id": "inside-freight",
   "metadata": {},
   "outputs": [
    {
     "data": {
      "text/plain": [
       "[<class 'ontolearn.search.NCESNode'> at 0x19112d8\tBrother ⊔ (Daughter ⊓ (Sister ⊔ (¬Mother)))\tQuality:0.975\tLength:8\t|Indv.|:78,\n",
       " <class 'ontolearn.search.NCESNode'> at 0xe93607c\tBrother ⊔ (Person ⊓ (Daughter ⊔ (∃ hasChild.Father)))\tQuality:0.83673\tLength:9\t|Indv.|:114,\n",
       " <class 'ontolearn.search.NCESNode'> at 0xea8456c\tBrother ⊔ (Person ⊓ (Daughter ⊔ (∀ hasChild.Brother)))\tQuality:0.79227\tLength:9\t|Indv.|:125,\n",
       " <class 'ontolearn.search.NCESNode'> at 0xe92fde8\tBrother ⊔ Person ⊔ Daughter\tQuality:0.57746\tLength:5\t|Indv.|:202,\n",
       " <class 'ontolearn.search.NCESNode'> at 0xe84cb20\tBrother\tQuality:0.53571\tLength:1\t|Indv.|:30]"
      ]
     },
     "execution_count": 19,
     "metadata": {},
     "output_type": "execute_result"
    }
   ],
   "source": [
    "nces.best_predictions"
   ]
  },
  {
   "cell_type": "markdown",
   "id": "coastal-series",
   "metadata": {},
   "source": [
    "### Complex learning problems, potentially without an exact solution"
   ]
  },
  {
   "cell_type": "markdown",
   "id": "higher-faculty",
   "metadata": {},
   "source": [
    "#### First learning problem"
   ]
  },
  {
   "cell_type": "code",
   "execution_count": 20,
   "id": "written-kingdom",
   "metadata": {},
   "outputs": [],
   "source": [
    "all_individuals = set(KB.individuals())\n",
    "pos = set(random.sample(list(all_individuals), 150))\n",
    "remaining = all_individuals-pos\n",
    "neg = set(random.sample(list(remaining), min(100, len(remaining))))"
   ]
  },
  {
   "cell_type": "code",
   "execution_count": 21,
   "id": "parallel-lawrence",
   "metadata": {},
   "outputs": [
    {
     "data": {
      "text/plain": [
       "['SetTransformer', 'GRU', 'LSTM']"
      ]
     },
     "execution_count": 21,
     "metadata": {},
     "output_type": "execute_result"
    }
   ],
   "source": [
    "nces.pretrained_model_name"
   ]
  },
  {
   "cell_type": "code",
   "execution_count": 22,
   "id": "ongoing-large",
   "metadata": {},
   "outputs": [
    {
     "name": "stdout",
     "output_type": "stream",
     "text": [
      "\n",
      "\n",
      "\n",
      "\n",
      "Duration:  0.22026395797729492  seconds\n"
     ]
    }
   ],
   "source": [
    "t0 = time.time()\n",
    "node = nces.fit(pos, neg).best_hypotheses()\n",
    "t1 = time.time()\n",
    "print(\"\\nDuration: \", t1-t0, \" seconds\")"
   ]
  },
  {
   "cell_type": "code",
   "execution_count": 23,
   "id": "smaller-major",
   "metadata": {},
   "outputs": [
    {
     "data": {
      "text/plain": [
       "<class 'ontolearn.search.NCESNode'> at 0xe966d68\tPerson\tQuality:0.85227\tLength:1\t|Indv.|:202"
      ]
     },
     "execution_count": 23,
     "metadata": {},
     "output_type": "execute_result"
    }
   ],
   "source": [
    "node"
   ]
  },
  {
   "cell_type": "code",
   "execution_count": 24,
   "id": "adjustable-hierarchy",
   "metadata": {},
   "outputs": [
    {
     "name": "stdout",
     "output_type": "stream",
     "text": [
      "Accuracy: 74.25699999999999%\n",
      "Precision: 74.25699999999999%\n",
      "Recall: 100.0%\n",
      "F1: 85.227%\n"
     ]
    },
    {
     "data": {
      "text/plain": [
       "(74.25699999999999, 74.25699999999999, 100.0, 85.227)"
      ]
     },
     "execution_count": 24,
     "metadata": {},
     "output_type": "execute_result"
    }
   ],
   "source": [
    "quality(KB, node.concept, pos, neg)"
   ]
  },
  {
   "cell_type": "markdown",
   "id": "assigned-horizon",
   "metadata": {},
   "source": [
    "#### Second learning problem"
   ]
  },
  {
   "cell_type": "code",
   "execution_count": 25,
   "id": "coordinate-somerset",
   "metadata": {},
   "outputs": [],
   "source": [
    "pos = set(random.sample(list(all_individuals), 80))\n",
    "remaining = all_individuals-pos\n",
    "neg = set(random.sample(list(remaining), min(150, len(remaining))))"
   ]
  },
  {
   "cell_type": "code",
   "execution_count": 26,
   "id": "other-storm",
   "metadata": {},
   "outputs": [
    {
     "name": "stdout",
     "output_type": "stream",
     "text": [
      "\n",
      "\n",
      "\n",
      "\n",
      "Duration:  0.22479009628295898  seconds\n"
     ]
    }
   ],
   "source": [
    "t0 = time.time()\n",
    "node = nces.fit(pos, neg).best_hypotheses()\n",
    "t1 = time.time()\n",
    "print(\"\\nDuration: \", t1-t0, \" seconds\")"
   ]
  },
  {
   "cell_type": "code",
   "execution_count": 27,
   "id": "industrial-acting",
   "metadata": {},
   "outputs": [
    {
     "name": "stdout",
     "output_type": "stream",
     "text": [
      "Accuracy: 39.604%\n",
      "Precision: 39.604%\n",
      "Recall: 100.0%\n",
      "F1: 56.738%\n"
     ]
    },
    {
     "data": {
      "text/plain": [
       "(39.604, 39.604, 100.0, 56.738)"
      ]
     },
     "execution_count": 27,
     "metadata": {},
     "output_type": "execute_result"
    }
   ],
   "source": [
    "quality(KB, node.concept, pos, neg)"
   ]
  },
  {
   "cell_type": "code",
   "execution_count": null,
   "id": "residential-ecuador",
   "metadata": {},
   "outputs": [],
   "source": []
  },
  {
   "cell_type": "markdown",
   "id": "annoying-flash",
   "metadata": {},
   "source": [
    "## Important note\n",
    "\n",
    "- Each of the synthesized expressions are not present in the knowledge base.\n",
    "- NCES synthesizes solutions by leveraging its experience on the training data.\n",
    "- The inputs (positive/negative examples) need not be balanced\n",
    "- NCES can solve multiple learning problems at the same time (through broadcasting on matrix operations in its neural network component), see nces_notebook1.ipynb\n",
    "- Since LSTM and GRU are not permutation-equivariant, we can get different but closely related solutions by shuflling the input examples for these architectures. For this, one needs to instantiate the NCES class with the attribute \"sorted_examples=False\" which is the case by default."
   ]
  },
  {
   "cell_type": "code",
   "execution_count": null,
   "id": "catholic-warner",
   "metadata": {},
   "outputs": [],
   "source": []
  }
 ],
 "metadata": {
  "kernelspec": {
   "display_name": "onto",
   "language": "python",
   "name": "onto"
  },
  "language_info": {
   "codemirror_mode": {
    "name": "ipython",
    "version": 3
   },
   "file_extension": ".py",
   "mimetype": "text/x-python",
   "name": "python",
   "nbconvert_exporter": "python",
   "pygments_lexer": "ipython3",
   "version": "3.9.18"
  }
 },
 "nbformat": 4,
 "nbformat_minor": 5
}
