{
 "cells": [
  {
   "cell_type": "code",
   "execution_count": 6,
   "id": "nutritional-globe",
   "metadata": {},
   "outputs": [
    {
     "name": "stdout",
     "output_type": "stream",
     "text": [
      "--2023-08-16 11:53:00--  https://hobbitdata.informatik.uni-leipzig.de/NCES_Ontolearn_Data/NCESFamilyData.zip\n",
      "Resolving hobbitdata.informatik.uni-leipzig.de (hobbitdata.informatik.uni-leipzig.de)... 139.18.121.22\n",
      "Connecting to hobbitdata.informatik.uni-leipzig.de (hobbitdata.informatik.uni-leipzig.de)|139.18.121.22|:443... connected.\n",
      "HTTP request sent, awaiting response... 200 OK\n",
      "Length: 5334826 (5.1M) [application/zip]\n",
      "Saving to: ‘../NCESFamilyData.zip’\n",
      "\n",
      "../NCESFamilyData.z 100%[===================>]   5.09M  9.77MB/s    in 0.5s    \n",
      "\n",
      "2023-08-16 11:53:01 (9.77 MB/s) - ‘../NCESFamilyData.zip’ saved [5334826/5334826]\n",
      "\n",
      "Archive:  ../NCESFamilyData.zip\n",
      "   creating: ../NCESData/family/\n",
      "   creating: ../NCESData/family/embeddings/\n",
      "  inflating: ../NCESData/family/embeddings/loss_per_epoch.csv  \n",
      "  inflating: ../NCESData/family/embeddings/ConEx_relation_embeddings.csv  \n",
      "  inflating: ../NCESData/family/embeddings/ConEx_entity_embeddings.csv  \n",
      "  inflating: ../NCESData/family/embeddings/results.json  \n",
      "  inflating: ../NCESData/family/embeddings/settings.json  \n",
      "  inflating: ../NCESData/family/family.owl  \n",
      "   creating: ../NCESData/family/trained_models/\n",
      "  inflating: ../NCESData/family/trained_models/trained_LSTM.pt  \n",
      "  inflating: ../NCESData/family/trained_models/trained_SetTransformer.pt  \n",
      "  inflating: ../NCESData/family/trained_models/trained_GRU.pt  \n"
     ]
    }
   ],
   "source": [
    "!wget https://hobbitdata.informatik.uni-leipzig.de/NCES_Ontolearn_Data/NCESFamilyData.zip -O ../NCESFamilyData.zip\n",
    "!unzip -o -d ../ ../NCESFamilyData.zip\n",
    "!rm -f ../NCESFamilyData.zip"
   ]
  },
  {
   "cell_type": "code",
   "execution_count": 1,
   "id": "banned-dealer",
   "metadata": {},
   "outputs": [
    {
     "name": "stdout",
     "output_type": "stream",
     "text": [
      "\n",
      "\n",
      " Loaded pretrained model! \n",
      "\n",
      "\n",
      "\n",
      " Loaded pretrained model! \n",
      "\n",
      "\n",
      "\n",
      " Loaded pretrained model! \n",
      "\n",
      "Prediction:  Brother ⊔ Daughter\n",
      "Duration:  0.3181018829345703  seconds\n",
      "\n",
      "Prediction:  Brother ⊔ Daughter\n",
      "Accuracy: 100.0%\n",
      "Precision: 100.0%\n",
      "Recall: 100.0%\n",
      "F1: 100.0%\n"
     ]
    }
   ],
   "source": [
    "from ontolearn.concept_learner import NCES\n",
    "from ontolearn.knowledge_base import KnowledgeBase\n",
    "from owlapy.parser import DLSyntaxParser\n",
    "from owlapy.render import DLSyntaxObjectRenderer\n",
    "import sys\n",
    "from quality_functions import quality\n",
    "import time\n",
    "\n",
    "nces = NCES(knowledge_base_path=\"../NCESData/family/family.owl\", learner_name=\"SetTransformer\",\\\n",
    "            path_of_embeddings=\"../NCESData/family/embeddings/ConEx_entity_embeddings.csv\",load_pretrained=True,\\\n",
    "            max_length=48, proj_dim=128, rnn_n_layers=2, drop_prob=0.1, num_heads=4, num_seeds=1, num_inds=32,\\\n",
    "            pretrained_model_name=[\"SetTransformer\", \"LSTM\", \"GRU\"])\n",
    "\n",
    "KB = KnowledgeBase(path=nces.knowledge_base_path)\n",
    "dl_syntax_renderer = DLSyntaxObjectRenderer()\n",
    "dl_parser = DLSyntaxParser(nces.kb_namespace)\n",
    "brother = dl_parser.parse('Brother')\n",
    "daughter = dl_parser.parse('Daughter')\n",
    "\n",
    "pos = set(KB.individuals(brother)).union(set(KB.individuals(daughter)))\n",
    "neg = set(KB.individuals())-set(pos)\n",
    "\n",
    "t0 = time.time()\n",
    "concept = nces.fit(pos, neg)\n",
    "# Use NCES to synthesize the solution class expression.\n",
    "# Note that NCES is not given the concepts Brother and Daughter.\n",
    "# Yet, it is able to compute the exact solution!\n",
    "t1 = time.time()\n",
    "print(\"Duration: \", t1-t0, \" seconds\")\n",
    "print(\"\\nPrediction: \", dl_syntax_renderer.render(concept))\n",
    "quality(KB, concept, pos, neg);"
   ]
  },
  {
   "cell_type": "code",
   "execution_count": null,
   "id": "iraqi-might",
   "metadata": {},
   "outputs": [],
   "source": []
  }
 ],
 "metadata": {
  "kernelspec": {
   "display_name": "nces",
   "language": "python",
   "name": "nces"
  },
  "language_info": {
   "codemirror_mode": {
    "name": "ipython",
    "version": 3
   },
   "file_extension": ".py",
   "mimetype": "text/x-python",
   "name": "python",
   "nbconvert_exporter": "python",
   "pygments_lexer": "ipython3",
   "version": "3.9.4"
  }
 },
 "nbformat": 4,
 "nbformat_minor": 5
}
