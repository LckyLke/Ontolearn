{
 "cells": [
  {
   "attachments": {},
   "cell_type": "markdown",
   "id": "immune-fluid",
   "metadata": {},
   "source": [
    "From the main directory \"Ontolearn\", run the commands for NCES data in [`./download_external_resources.sh`](../download_external_resources.sh) to download pretrained models and datasets."
   ]
  },
  {
   "attachments": {},
   "cell_type": "markdown",
   "id": "dominant-delivery",
   "metadata": {},
   "source": [
    "## Inference with NCES"
   ]
  },
  {
   "cell_type": "code",
   "execution_count": 1,
   "id": "settled-complexity",
   "metadata": {},
   "outputs": [],
   "source": [
    "from ontolearn.concept_learner import NCES\n",
    "from ontolearn.knowledge_base import KnowledgeBase\n",
    "from ontolearn.owlapy.parser import DLSyntaxParser"
   ]
  },
  {
   "cell_type": "code",
   "execution_count": 2,
   "id": "massive-reply",
   "metadata": {},
   "outputs": [
    {
     "name": "stdout",
     "output_type": "stream",
     "text": [
      "\n",
      "\n",
      " Loaded pretrained model! \n",
      "\n"
     ]
    }
   ],
   "source": [
    "nces = NCES(knowledge_base_path=\"../NCESData/family/family.owl\", learner_name=\"SetTransformer\",\n",
    "     path_of_embeddings=\"../NCESData/family/embeddings/ConEx_entity_embeddings.csv\", load_pretrained=True, max_length=48, proj_dim=128, rnn_n_layers=2, drop_prob=0.1, num_heads=4, num_seeds=1, num_inds=32, pretrained_model_name=\"SetTransformer\")"
   ]
  },
  {
   "cell_type": "code",
   "execution_count": 3,
   "id": "structured-houston",
   "metadata": {},
   "outputs": [],
   "source": [
    "KB = KnowledgeBase(path=nces.knowledge_base_path)"
   ]
  },
  {
   "cell_type": "code",
   "execution_count": 4,
   "id": "broken-salon",
   "metadata": {},
   "outputs": [],
   "source": [
    "#list(KB.ontology().classes_in_signature())"
   ]
  },
  {
   "cell_type": "code",
   "execution_count": 5,
   "id": "italian-cabinet",
   "metadata": {},
   "outputs": [],
   "source": [
    "dl_parser = DLSyntaxParser(nces.kb_namespace)"
   ]
  },
  {
   "attachments": {},
   "cell_type": "markdown",
   "id": "running-prototype",
   "metadata": {},
   "source": [
    "### Let's learn the concept ``Father''"
   ]
  },
  {
   "cell_type": "code",
   "execution_count": 6,
   "id": "advised-feeling",
   "metadata": {},
   "outputs": [],
   "source": [
    "father = dl_parser.parse('Father')"
   ]
  },
  {
   "cell_type": "code",
   "execution_count": 7,
   "id": "oriental-disney",
   "metadata": {},
   "outputs": [],
   "source": [
    "not_father = dl_parser.parse('¬Father') # For negative examples"
   ]
  },
  {
   "cell_type": "code",
   "execution_count": 8,
   "id": "thorough-intermediate",
   "metadata": {},
   "outputs": [],
   "source": [
    "pos = [ind.get_iri().as_str().split(\"/\")[-1] for ind in KB.individuals(father)]"
   ]
  },
  {
   "cell_type": "code",
   "execution_count": 9,
   "id": "cleared-chocolate",
   "metadata": {},
   "outputs": [],
   "source": [
    "neg = [ind.get_iri().as_str().split(\"/\")[-1] for ind in KB.individuals(not_father)]"
   ]
  },
  {
   "attachments": {},
   "cell_type": "markdown",
   "id": "frank-front",
   "metadata": {},
   "source": [
    "#### Prediction with SetTransformer"
   ]
  },
  {
   "cell_type": "code",
   "execution_count": 10,
   "id": "objective-response",
   "metadata": {},
   "outputs": [
    {
     "name": "stdout",
     "output_type": "stream",
     "text": [
      "Prediction:  Father\n"
     ]
    }
   ],
   "source": [
    "concept = nces.fit(pos, neg)"
   ]
  },
  {
   "cell_type": "code",
   "execution_count": 11,
   "id": "adopted-retirement",
   "metadata": {},
   "outputs": [
    {
     "data": {
      "text/plain": [
       "True"
      ]
     },
     "execution_count": 11,
     "metadata": {},
     "output_type": "execute_result"
    }
   ],
   "source": [
    "nces.sorted_examples"
   ]
  },
  {
   "attachments": {},
   "cell_type": "markdown",
   "id": "hungarian-transsexual",
   "metadata": {},
   "source": [
    "#### Prediction with GRU"
   ]
  },
  {
   "cell_type": "code",
   "execution_count": 12,
   "id": "streaming-wayne",
   "metadata": {},
   "outputs": [
    {
     "name": "stdout",
     "output_type": "stream",
     "text": [
      "\n",
      "\n",
      " Loaded pretrained model! \n",
      "\n",
      "Prediction:  Father\n"
     ]
    }
   ],
   "source": [
    "nces.pretrained_model_name = 'GRU'\n",
    "nces.refresh()\n",
    "concept = nces.fit(pos, neg)"
   ]
  },
  {
   "attachments": {},
   "cell_type": "markdown",
   "id": "killing-determination",
   "metadata": {},
   "source": [
    "#### Prediction with LSTM"
   ]
  },
  {
   "cell_type": "code",
   "execution_count": 13,
   "id": "mathematical-denial",
   "metadata": {},
   "outputs": [
    {
     "name": "stdout",
     "output_type": "stream",
     "text": [
      "\n",
      "\n",
      " Loaded pretrained model! \n",
      "\n",
      "Prediction:  Father ⊔ (∃ hasChild.(Daughter ⊓ (∃ hasChild.Grandfather)))\n"
     ]
    }
   ],
   "source": [
    "nces.pretrained_model_name = 'LSTM'\n",
    "nces.refresh()\n",
    "concept = nces.fit(pos, neg)"
   ]
  },
  {
   "attachments": {},
   "cell_type": "markdown",
   "id": "divided-respondent",
   "metadata": {},
   "source": [
    "#### Prediction with ensemble SetTransformer+GRU+LSTM"
   ]
  },
  {
   "cell_type": "code",
   "execution_count": 14,
   "id": "systematic-gothic",
   "metadata": {},
   "outputs": [
    {
     "name": "stdout",
     "output_type": "stream",
     "text": [
      "\n",
      "\n",
      " Loaded pretrained model! \n",
      "\n",
      "\n",
      "\n",
      " Loaded pretrained model! \n",
      "\n",
      "\n",
      "\n",
      " Loaded pretrained model! \n",
      "\n",
      "Prediction:  Father\n"
     ]
    }
   ],
   "source": [
    "nces.pretrained_model_name = ['SetTransformer','GRU','LSTM']\n",
    "nces.refresh()\n",
    "concept = nces.fit(pos, neg)"
   ]
  },
  {
   "attachments": {},
   "cell_type": "markdown",
   "id": "square-upper",
   "metadata": {},
   "source": [
    "### Scalability of NCES (solving multiple learning problems in a go!)"
   ]
  },
  {
   "cell_type": "code",
   "execution_count": 15,
   "id": "young-internet",
   "metadata": {},
   "outputs": [],
   "source": [
    "import json, time"
   ]
  },
  {
   "cell_type": "code",
   "execution_count": 16,
   "id": "technological-evans",
   "metadata": {},
   "outputs": [],
   "source": [
    "with open(\"../NCESData/family/training_data/Data.json\") as file:\n",
    "    data = list(json.load(file).items())\n",
    "## The function below takes an iterable of tuples\n",
    "LPs = list(map(lambda x: (x[0], x[1][\"positive examples\"], x[1][\"negative examples\"]), data))"
   ]
  },
  {
   "cell_type": "code",
   "execution_count": 17,
   "id": "thousand-blind",
   "metadata": {},
   "outputs": [],
   "source": [
    "## We solve 256 learning problems!\n",
    "lps = LPs[:256]"
   ]
  },
  {
   "cell_type": "code",
   "execution_count": 18,
   "id": "closing-fantasy",
   "metadata": {},
   "outputs": [
    {
     "name": "stdout",
     "output_type": "stream",
     "text": [
      "Duration:  3.079460620880127 seconds!\n"
     ]
    }
   ],
   "source": [
    "t0 = time.time()\n",
    "concepts = nces.fit_from_iterable(lps, verbose=False) ## Now predict with nces.fit_from_iterable.\n",
    "t1 = time.time()\n",
    "print(\"Duration: \", t1-t0, \"seconds!\")"
   ]
  },
  {
   "cell_type": "code",
   "execution_count": 19,
   "id": "measured-observation",
   "metadata": {},
   "outputs": [
    {
     "name": "stdout",
     "output_type": "stream",
     "text": [
      "OWLClass(IRI('http://www.benchmark.org/family#','Sister'))\n"
     ]
    }
   ],
   "source": [
    "print(concepts[0])"
   ]
  },
  {
   "cell_type": "code",
   "execution_count": 20,
   "id": "cheap-acrobat",
   "metadata": {},
   "outputs": [
    {
     "name": "stdout",
     "output_type": "stream",
     "text": [
      "256\n"
     ]
    }
   ],
   "source": [
    "print(len(concepts))"
   ]
  },
  {
   "attachments": {},
   "cell_type": "markdown",
   "id": "metropolitan-light",
   "metadata": {},
   "source": [
    "### Change pretrained model name, e.g., use ensemble model prediction"
   ]
  },
  {
   "cell_type": "code",
   "execution_count": 21,
   "id": "competitive-result",
   "metadata": {},
   "outputs": [],
   "source": [
    "nces.pretrained_model_name = ['SetTransformer', 'GRU']"
   ]
  },
  {
   "cell_type": "code",
   "execution_count": 22,
   "id": "outside-munich",
   "metadata": {},
   "outputs": [
    {
     "data": {
      "text/plain": [
       "['SetTransformer', 'GRU']"
      ]
     },
     "execution_count": 22,
     "metadata": {},
     "output_type": "execute_result"
    }
   ],
   "source": [
    "nces.pretrained_model_name"
   ]
  },
  {
   "cell_type": "code",
   "execution_count": 23,
   "id": "wired-trainer",
   "metadata": {},
   "outputs": [
    {
     "name": "stdout",
     "output_type": "stream",
     "text": [
      "\n",
      "\n",
      " Loaded pretrained model! \n",
      "\n",
      "\n",
      "\n",
      " Loaded pretrained model! \n",
      "\n"
     ]
    }
   ],
   "source": [
    "nces.refresh()"
   ]
  },
  {
   "cell_type": "code",
   "execution_count": 24,
   "id": "fabulous-florida",
   "metadata": {},
   "outputs": [
    {
     "name": "stdout",
     "output_type": "stream",
     "text": [
      "Duration:  8.768116474151611 seconds!\n"
     ]
    }
   ],
   "source": [
    "t0 = time.time()\n",
    "concepts = nces.fit_from_iterable(lps, verbose=False)\n",
    "t1 = time.time()\n",
    "print(\"Duration: \", t1-t0, \"seconds!\")"
   ]
  },
  {
   "cell_type": "code",
   "execution_count": 25,
   "id": "australian-geography",
   "metadata": {},
   "outputs": [
    {
     "data": {
      "text/plain": [
       "OWLObjectAllValuesFrom(property=OWLObjectProperty(IRI('http://www.benchmark.org/family#','married')),filler=OWLObjectComplementOf(OWLClass(IRI('http://www.benchmark.org/family#','PersonWithASibling'))))"
      ]
     },
     "execution_count": 25,
     "metadata": {},
     "output_type": "execute_result"
    }
   ],
   "source": [
    "concepts[-1]"
   ]
  },
  {
   "attachments": {},
   "cell_type": "markdown",
   "id": "paperback-window",
   "metadata": {},
   "source": [
    "## Training NCES"
   ]
  },
  {
   "cell_type": "code",
   "execution_count": 26,
   "id": "confused-sleep",
   "metadata": {},
   "outputs": [],
   "source": [
    "import json, time\n",
    "with open(\"../NCESData/family/training_data/Data.json\") as file:\n",
    "    data = json.load(file) # Training data. Below we use the first 200 datapoints to train the synthesizer. You train on the full data, e.g. on GPU by remobing \"[:200]\""
   ]
  },
  {
   "cell_type": "code",
   "execution_count": 27,
   "id": "alive-preparation",
   "metadata": {},
   "outputs": [],
   "source": [
    "from ontolearn.concept_learner import NCES"
   ]
  },
  {
   "cell_type": "code",
   "execution_count": 28,
   "id": "specialized-biography",
   "metadata": {},
   "outputs": [],
   "source": [
    "nces = NCES(knowledge_base_path=\"../NCESData/family/family.owl\", learner_name=\"SetTransformer\",\n",
    "     path_of_embeddings=\"../NCESData/family/embeddings/ConEx_entity_embeddings.csv\", max_length=48, proj_dim=128, rnn_n_layers=2, drop_prob=0.1, num_heads=4, num_seeds=1, num_inds=32,\n",
    "            load_pretrained=False, pretrained_model_name=\"SetTransformer\")"
   ]
  },
  {
   "cell_type": "code",
   "execution_count": 29,
   "id": "parallel-cleveland",
   "metadata": {},
   "outputs": [
    {
     "name": "stdout",
     "output_type": "stream",
     "text": [
      "********************Trainable model size********************\n",
      "Synthesizer:  515296\n",
      "********************Trainable model size********************\n",
      "\n",
      "Training on CPU, it may take long...\n",
      "\n",
      "##################################################\n",
      "\n",
      "SetTransformer starts training... \n",
      "\n",
      "################################################## \n",
      "\n"
     ]
    },
    {
     "name": "stderr",
     "output_type": "stream",
     "text": [
      "Loss: 0.5712, Soft Acc: 74.01%, Hard Acc: 71.02%: 100%|██████████| 20/20 [01:12<00:00,  3.63s/it]"
     ]
    },
    {
     "name": "stdout",
     "output_type": "stream",
     "text": [
      "Top performance: loss: 0.5712, soft accuracy: 74.65% ... hard accuracy: 72.23%\n",
      "\n",
      "SetTransformer saved\n"
     ]
    },
    {
     "name": "stderr",
     "output_type": "stream",
     "text": [
      "\n"
     ]
    }
   ],
   "source": [
    "nces.train(list(data.items())[-200:], epochs=20, learning_rate=0.001, save_model=True, storage_path=f\"./NCES-{time.time()}/\")"
   ]
  },
  {
   "cell_type": "code",
   "execution_count": null,
   "id": "apparent-kelly",
   "metadata": {},
   "outputs": [],
   "source": []
  },
  {
   "cell_type": "code",
   "execution_count": null,
   "id": "western-message",
   "metadata": {},
   "outputs": [],
   "source": []
  }
 ],
 "metadata": {
  "kernelspec": {
   "display_name": "nces",
   "language": "python",
   "name": "nces"
  },
  "language_info": {
   "codemirror_mode": {
    "name": "ipython",
    "version": 3
   },
   "file_extension": ".py",
   "mimetype": "text/x-python",
   "name": "python",
   "nbconvert_exporter": "python",
   "pygments_lexer": "ipython3",
   "version": "3.9.4"
  }
 },
 "nbformat": 4,
 "nbformat_minor": 5
}
